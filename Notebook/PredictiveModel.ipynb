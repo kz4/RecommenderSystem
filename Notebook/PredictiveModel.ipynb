{
 "cells": [
  {
   "cell_type": "code",
   "execution_count": 1,
   "metadata": {
    "collapsed": true
   },
   "outputs": [],
   "source": [
    "import tensorflow as tf\n",
    "import pandas as pd\n",
    "import numpy as np\n",
    "import pickle"
   ]
  },
  {
   "cell_type": "code",
   "execution_count": 2,
   "metadata": {},
   "outputs": [
    {
     "data": {
      "text/html": [
       "<div>\n",
       "<style>\n",
       "    .dataframe thead tr:only-child th {\n",
       "        text-align: right;\n",
       "    }\n",
       "\n",
       "    .dataframe thead th {\n",
       "        text-align: left;\n",
       "    }\n",
       "\n",
       "    .dataframe tbody tr th {\n",
       "        vertical-align: top;\n",
       "    }\n",
       "</style>\n",
       "<table border=\"1\" class=\"dataframe\">\n",
       "  <thead>\n",
       "    <tr style=\"text-align: right;\">\n",
       "      <th></th>\n",
       "      <th>userid</th>\n",
       "      <th>view1</th>\n",
       "      <th>view2</th>\n",
       "      <th>view3</th>\n",
       "      <th>view4</th>\n",
       "      <th>view5</th>\n",
       "      <th>view6</th>\n",
       "      <th>addtocart</th>\n",
       "    </tr>\n",
       "  </thead>\n",
       "  <tbody>\n",
       "    <tr>\n",
       "      <th>0</th>\n",
       "      <td>786432.0</td>\n",
       "      <td>58086.0</td>\n",
       "      <td>325585.0</td>\n",
       "      <td>58086.0</td>\n",
       "      <td>325585.0</td>\n",
       "      <td>0.0</td>\n",
       "      <td>0.0</td>\n",
       "      <td>325585.0</td>\n",
       "    </tr>\n",
       "    <tr>\n",
       "      <th>1</th>\n",
       "      <td>917508.0</td>\n",
       "      <td>218033.0</td>\n",
       "      <td>218033.0</td>\n",
       "      <td>22839.0</td>\n",
       "      <td>218033.0</td>\n",
       "      <td>0.0</td>\n",
       "      <td>0.0</td>\n",
       "      <td>218033.0</td>\n",
       "    </tr>\n",
       "    <tr>\n",
       "      <th>2</th>\n",
       "      <td>6.0</td>\n",
       "      <td>344723.0</td>\n",
       "      <td>344723.0</td>\n",
       "      <td>253615.0</td>\n",
       "      <td>344723.0</td>\n",
       "      <td>344723.0</td>\n",
       "      <td>0.0</td>\n",
       "      <td>65273.0</td>\n",
       "    </tr>\n",
       "    <tr>\n",
       "      <th>3</th>\n",
       "      <td>1310734.0</td>\n",
       "      <td>390399.0</td>\n",
       "      <td>443094.0</td>\n",
       "      <td>0.0</td>\n",
       "      <td>0.0</td>\n",
       "      <td>0.0</td>\n",
       "      <td>0.0</td>\n",
       "      <td>435940.0</td>\n",
       "    </tr>\n",
       "    <tr>\n",
       "      <th>4</th>\n",
       "      <td>567388.0</td>\n",
       "      <td>340375.0</td>\n",
       "      <td>340375.0</td>\n",
       "      <td>80435.0</td>\n",
       "      <td>80435.0</td>\n",
       "      <td>88904.0</td>\n",
       "      <td>80435.0</td>\n",
       "      <td>88904.0</td>\n",
       "    </tr>\n",
       "  </tbody>\n",
       "</table>\n",
       "</div>"
      ],
      "text/plain": [
       "      userid     view1     view2     view3     view4     view5    view6  \\\n",
       "0   786432.0   58086.0  325585.0   58086.0  325585.0       0.0      0.0   \n",
       "1   917508.0  218033.0  218033.0   22839.0  218033.0       0.0      0.0   \n",
       "2        6.0  344723.0  344723.0  253615.0  344723.0  344723.0      0.0   \n",
       "3  1310734.0  390399.0  443094.0       0.0       0.0       0.0      0.0   \n",
       "4   567388.0  340375.0  340375.0   80435.0   80435.0   88904.0  80435.0   \n",
       "\n",
       "   addtocart  \n",
       "0   325585.0  \n",
       "1   218033.0  \n",
       "2    65273.0  \n",
       "3   435940.0  \n",
       "4    88904.0  "
      ]
     },
     "execution_count": 2,
     "metadata": {},
     "output_type": "execute_result"
    }
   ],
   "source": [
    "userDF = pd.read_pickle(\"../output/userDF.pickle\")\n",
    "userDF.head()"
   ]
  },
  {
   "cell_type": "code",
   "execution_count": 3,
   "metadata": {},
   "outputs": [
    {
     "data": {
      "text/plain": [
       "23208"
      ]
     },
     "execution_count": 3,
     "metadata": {},
     "output_type": "execute_result"
    }
   ],
   "source": [
    "len(userDF.addtocart.unique())"
   ]
  },
  {
   "cell_type": "code",
   "execution_count": 4,
   "metadata": {},
   "outputs": [
    {
     "data": {
      "text/plain": [
       "97169"
      ]
     },
     "execution_count": 4,
     "metadata": {},
     "output_type": "execute_result"
    }
   ],
   "source": [
    "len(userDF)"
   ]
  },
  {
   "cell_type": "markdown",
   "metadata": {},
   "source": [
    "## Building Model"
   ]
  },
  {
   "cell_type": "code",
   "execution_count": 5,
   "metadata": {
    "collapsed": true
   },
   "outputs": [],
   "source": [
    "def one_hot_matrix(labels, C):\n",
    "    \"\"\"\n",
    "    Creates a matrix where the i-th row corresponds to the ith class number and the jth column\n",
    "                     corresponds to the jth training example. So if example j had a label i. Then entry (i,j) \n",
    "                     will be 1. \n",
    "                     \n",
    "    Arguments:\n",
    "    labels -- vector containing the labels \n",
    "    C -- number of classes, the depth of the one hot dimension\n",
    "    \n",
    "    Returns: \n",
    "    one_hot -- one hot matrix\n",
    "    \"\"\"\n",
    "    \n",
    "       \n",
    "    # Create a tf.constant equal to C (depth), name it 'C'. (approx. 1 line)\n",
    "    C = tf.constant(value=C, name='C')\n",
    "    one_hot_matrix = tf.one_hot(indices = labels, depth = C, on_value=1, off_value=0, axis=0)\n",
    "    sess = tf.Session()\n",
    "    one_hot = sess.run(one_hot_matrix)\n",
    "    sess.close()\n",
    "    \n",
    "    return one_hot"
   ]
  },
  {
   "cell_type": "code",
   "execution_count": 6,
   "metadata": {},
   "outputs": [
    {
     "data": {
      "text/html": [
       "<div>\n",
       "<style>\n",
       "    .dataframe thead tr:only-child th {\n",
       "        text-align: right;\n",
       "    }\n",
       "\n",
       "    .dataframe thead th {\n",
       "        text-align: left;\n",
       "    }\n",
       "\n",
       "    .dataframe tbody tr th {\n",
       "        vertical-align: top;\n",
       "    }\n",
       "</style>\n",
       "<table border=\"1\" class=\"dataframe\">\n",
       "  <thead>\n",
       "    <tr style=\"text-align: right;\">\n",
       "      <th></th>\n",
       "      <th>userid</th>\n",
       "      <th>view1</th>\n",
       "      <th>view2</th>\n",
       "      <th>view3</th>\n",
       "      <th>view4</th>\n",
       "      <th>view5</th>\n",
       "      <th>view6</th>\n",
       "      <th>addtocart</th>\n",
       "    </tr>\n",
       "  </thead>\n",
       "  <tbody>\n",
       "    <tr>\n",
       "      <th>0</th>\n",
       "      <td>786432.0</td>\n",
       "      <td>58086.0</td>\n",
       "      <td>325585.0</td>\n",
       "      <td>58086.0</td>\n",
       "      <td>325585.0</td>\n",
       "      <td>0.0</td>\n",
       "      <td>0.0</td>\n",
       "      <td>325585.0</td>\n",
       "    </tr>\n",
       "    <tr>\n",
       "      <th>1</th>\n",
       "      <td>917508.0</td>\n",
       "      <td>218033.0</td>\n",
       "      <td>218033.0</td>\n",
       "      <td>22839.0</td>\n",
       "      <td>218033.0</td>\n",
       "      <td>0.0</td>\n",
       "      <td>0.0</td>\n",
       "      <td>218033.0</td>\n",
       "    </tr>\n",
       "    <tr>\n",
       "      <th>2</th>\n",
       "      <td>6.0</td>\n",
       "      <td>344723.0</td>\n",
       "      <td>344723.0</td>\n",
       "      <td>253615.0</td>\n",
       "      <td>344723.0</td>\n",
       "      <td>344723.0</td>\n",
       "      <td>0.0</td>\n",
       "      <td>65273.0</td>\n",
       "    </tr>\n",
       "    <tr>\n",
       "      <th>3</th>\n",
       "      <td>1310734.0</td>\n",
       "      <td>390399.0</td>\n",
       "      <td>443094.0</td>\n",
       "      <td>0.0</td>\n",
       "      <td>0.0</td>\n",
       "      <td>0.0</td>\n",
       "      <td>0.0</td>\n",
       "      <td>435940.0</td>\n",
       "    </tr>\n",
       "    <tr>\n",
       "      <th>4</th>\n",
       "      <td>567388.0</td>\n",
       "      <td>340375.0</td>\n",
       "      <td>340375.0</td>\n",
       "      <td>80435.0</td>\n",
       "      <td>80435.0</td>\n",
       "      <td>88904.0</td>\n",
       "      <td>80435.0</td>\n",
       "      <td>88904.0</td>\n",
       "    </tr>\n",
       "  </tbody>\n",
       "</table>\n",
       "</div>"
      ],
      "text/plain": [
       "      userid     view1     view2     view3     view4     view5    view6  \\\n",
       "0   786432.0   58086.0  325585.0   58086.0  325585.0       0.0      0.0   \n",
       "1   917508.0  218033.0  218033.0   22839.0  218033.0       0.0      0.0   \n",
       "2        6.0  344723.0  344723.0  253615.0  344723.0  344723.0      0.0   \n",
       "3  1310734.0  390399.0  443094.0       0.0       0.0       0.0      0.0   \n",
       "4   567388.0  340375.0  340375.0   80435.0   80435.0   88904.0  80435.0   \n",
       "\n",
       "   addtocart  \n",
       "0   325585.0  \n",
       "1   218033.0  \n",
       "2    65273.0  \n",
       "3   435940.0  \n",
       "4    88904.0  "
      ]
     },
     "execution_count": 6,
     "metadata": {},
     "output_type": "execute_result"
    }
   ],
   "source": [
    "userDF.head()"
   ]
  },
  {
   "cell_type": "code",
   "execution_count": 7,
   "metadata": {},
   "outputs": [
    {
     "data": {
      "text/plain": [
       "array([[  58086.,  218033.,  344723., ...,  207922.,  207922.,  167978.],\n",
       "       [ 325585.,  218033.,  344723., ...,  355865.,  355865.,  226089.],\n",
       "       [  58086.,   22839.,  253615., ...,  375730.,  375730.,  167978.],\n",
       "       ..., \n",
       "       [      0.,       0.,  344723., ...,  313956.,  313956.,  167978.],\n",
       "       [      0.,       0.,       0., ...,  432718.,  432718.,       0.],\n",
       "       [ 325585.,  218033.,   65273., ...,  181939.,  160015.,  167978.]])"
      ]
     },
     "execution_count": 7,
     "metadata": {},
     "output_type": "execute_result"
    }
   ],
   "source": [
    "userDF = userDF.drop('userid',axis=1)\n",
    "userDF2 = userDF.as_matrix()\n",
    "userDF2 = userDF2.reshape(userDF2.shape[0], -1).T\n",
    "np.random.shuffle(userDF2)\n",
    "userDF2"
   ]
  },
  {
   "cell_type": "code",
   "execution_count": 47,
   "metadata": {},
   "outputs": [
    {
     "name": "stdout",
     "output_type": "stream",
     "text": [
      "number of training examples = 87452\n",
      "number of test examples = 9717\n",
      "X_train shape: (6, 87452)\n",
      "Y_train shape: (1, 87452)\n",
      "X_test shape: (6, 9717)\n",
      "Y_test shape: (1, 9717)\n"
     ]
    }
   ],
   "source": [
    "k =round(userDF2.shape[1]*.9)\n",
    "train, test = userDF2[:,:k], userDF2[:,k:]\n",
    "X_train, Y_train = train[:6,:], train[6:,:]\n",
    "X_test, Y_test = test[:6,:], test[6:, :]\n",
    "\n",
    "# Convert training and test labels to one hot matrices\n",
    "\n",
    "def convert_to_one_hot(Y, C):\n",
    "    Y = np.eye(C)[Y.reshape(-1)].T\n",
    "    return Y\n",
    "\n",
    "\n",
    "# Y_train = convert_to_one_hot(Y_train, 100)\n",
    "# Y_test = convert_to_one_hot(Y_test, 100)\n",
    "\n",
    "print (\"number of training examples = \" + str(X_train.shape[1]))\n",
    "print (\"number of test examples = \" + str(X_test.shape[1]))\n",
    "print (\"X_train shape: \" + str(X_train.shape))\n",
    "print (\"Y_train shape: \" + str(Y_train.shape))\n",
    "print (\"X_test shape: \" + str(X_test.shape))\n",
    "print (\"Y_test shape: \" + str(Y_test.shape))"
   ]
  },
  {
   "cell_type": "code",
   "execution_count": 25,
   "metadata": {},
   "outputs": [
    {
     "data": {
      "text/plain": [
       "(7, 87452)"
      ]
     },
     "execution_count": 25,
     "metadata": {},
     "output_type": "execute_result"
    }
   ],
   "source": [
    "def create_placeholders(n_x, n_y):\n",
    "    \"\"\"\n",
    "    Creates the placeholders for the tensorflow session.\n",
    "    \n",
    "    Arguments:\n",
    "    n_x -- scalar, size of an image vector (num_px * num_px = 64 * 64 * 3 = 12288)\n",
    "    n_y -- scalar, number of classes (from 0 to 5, so -> 6)\n",
    "    \n",
    "    Returns:\n",
    "    X -- placeholder for the data input, of shape [n_x, None] and dtype \"float\"\n",
    "    Y -- placeholder for the input labels, of shape [n_y, None] and dtype \"float\"\n",
    "    \n",
    "    Tips:\n",
    "    - You will use None because it let's us be flexible on the number of examples you will for the placeholders.\n",
    "      In fact, the number of examples during test/train is different.\n",
    "    \"\"\"\n",
    "    \n",
    "    X = tf.placeholder(dtype=tf.float32, shape=[n_x,None])\n",
    "    Y = tf.placeholder(dtype=tf.float32, shape=[n_y,None])\n",
    "    \n",
    "    return X, Y"
   ]
  },
  {
   "cell_type": "markdown",
   "metadata": {},
   "source": [
    "**The model** is *LINEAR -> RELU -> LINEAR -> RELU -> LINEAR -> SOFTMAX*. The SIGMOID output layer has been converted to a SOFTMAX. A SOFTMAX layer generalizes SIGMOID to when there are more than two classes. "
   ]
  },
  {
   "cell_type": "code",
   "execution_count": 23,
   "metadata": {},
   "outputs": [
    {
     "data": {
      "text/plain": [
       "(7, 9717)"
      ]
     },
     "execution_count": 23,
     "metadata": {},
     "output_type": "execute_result"
    }
   ],
   "source": [
    "def initialize_parameters():\n",
    "    \"\"\"\n",
    "    Initializes parameters to build a neural network with tensorflow. The shapes are:\n",
    "                        W1 : [25, 6]\n",
    "                        b1 : [25, 1]\n",
    "                        W2 : [12, 25]\n",
    "                        b2 : [12, 1]\n",
    "                        W3 : [6, 12]\n",
    "                        b3 : [6, 1]\n",
    "    \n",
    "    Returns:\n",
    "    parameters -- a dictionary of tensors containing W1, b1, W2, b2, W3, b3\n",
    "    \"\"\"\n",
    "    \n",
    "    tf.set_random_seed(1)                   # so that your \"random\" numbers match ours\n",
    "        \n",
    "    ### START CODE HERE ### (approx. 6 lines of code)\n",
    "    W1 = tf.get_variable(name=\"W1\", shape=[25,6], initializer=tf.contrib.layers.xavier_initializer(seed = 1))\n",
    "    b1 = tf.get_variable(name=\"b1\", shape = [25,1], initializer=tf.zeros_initializer())\n",
    "    W2 = tf.get_variable(name=\"W2\", shape=[12,25], initializer=tf.contrib.layers.xavier_initializer(seed = 1))\n",
    "    b2 = tf.get_variable(name=\"b2\", shape = [12,1], initializer=tf.zeros_initializer())\n",
    "    W3 = tf.get_variable(name=\"W3\", shape=[6,12], initializer=tf.contrib.layers.xavier_initializer(seed = 1))\n",
    "    b3 = tf.get_variable(name=\"b3\", shape = [6,1], initializer=tf.zeros_initializer())\n",
    "    ### END CODE HERE ###\n",
    "\n",
    "    parameters = {\"W1\": W1,\n",
    "                  \"b1\": b1,\n",
    "                  \"W2\": W2,\n",
    "                  \"b2\": b2,\n",
    "                  \"W3\": W3,\n",
    "                  \"b3\": b3}\n",
    "    \n",
    "    return parameters"
   ]
  },
  {
   "cell_type": "code",
   "execution_count": 37,
   "metadata": {},
   "outputs": [
    {
     "data": {
      "text/plain": [
       "(6, 9717)"
      ]
     },
     "execution_count": 37,
     "metadata": {},
     "output_type": "execute_result"
    }
   ],
   "source": [
    "x_test.shape"
   ]
  },
  {
   "cell_type": "code",
   "execution_count": null,
   "metadata": {
    "collapsed": true
   },
   "outputs": [],
   "source": []
  }
 ],
 "metadata": {
  "kernelspec": {
   "display_name": "Python 3",
   "language": "python",
   "name": "python3"
  },
  "language_info": {
   "codemirror_mode": {
    "name": "ipython",
    "version": 3
   },
   "file_extension": ".py",
   "mimetype": "text/x-python",
   "name": "python",
   "nbconvert_exporter": "python",
   "pygments_lexer": "ipython3",
   "version": "3.5.3"
  }
 },
 "nbformat": 4,
 "nbformat_minor": 2
}
